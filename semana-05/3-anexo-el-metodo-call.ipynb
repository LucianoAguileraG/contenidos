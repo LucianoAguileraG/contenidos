{
 "cells": [
  {
   "cell_type": "markdown",
   "metadata": {},
   "source": [
    "### Anexo: El método `__call__`\n",
    "\n",
    "El método `__call__` se usa para crear una función que será ejecutada cada vez que se \"llame\" (invoque) a una **instancia** de la clase con paréntesis, como al escribir `instancia()`. Observe el siguiente ejemplo:"
   ]
  },
  {
   "cell_type": "code",
   "execution_count": 26,
   "metadata": {},
   "outputs": [
    {
     "name": "stdout",
     "output_type": "stream",
     "text": [
      "Cucho\n",
      "Animal llamado: Boby\n",
      "Agregando comida a Cucho\n",
      "Agregando comida a Cucho\n",
      "['pescado', 'pollo']\n",
      "['pollo']\n"
     ]
    }
   ],
   "source": [
    "# Basado en: https://www.daniweb.com/programming/software-development/threads/39004/what-does-call-method-do\n",
    "\n",
    "class Animal:\n",
    "    def __init__(self, nombre, patas):\n",
    "        self.nombre = nombre\n",
    "        self.patas = patas\n",
    "        self.estomago = []        \n",
    "        \n",
    "    def __call__(self,comida):\n",
    "        print(\"Agregando comida a {}\".format(self.nombre))\n",
    "        self.estomago.append(comida)\n",
    "    \n",
    "    def digerir(self):\n",
    "        if len(self.estomago) > 0:\n",
    "            return self.estomago.pop(0)\n",
    "        \n",
    "    def __str__(self):        \n",
    "        return ('Animal llamado: {}'.format(self.nombre))\n",
    "        \n",
    "gato = Animal('Cucho', 4)  # Creamos un gato\n",
    "perro = Animal('Boby', 4)  # Podemos crear muchos animales\n",
    "print(gato.nombre)\n",
    "print(perro)           # Aquí funciona el método __str__\n",
    "gato('pescado')        # Aquí le damos pescado al gato usando el método __call__\n",
    "gato.__call__('pollo') # Esto es equivalente a gato('pollo')\n",
    "print(gato.estomago)   # Mostramos el contenido de su estómago\n",
    "gato.digerir()         # Digiere lo que lleva más tiempo en su estómago\n",
    "print(gato.estomago)"
   ]
  },
  {
   "cell_type": "markdown",
   "metadata": {},
   "source": [
    "Aquí podemos ver que al ejecutar `gato('pescado')`, estamos llamando indirectamente al método `__call__`, que recibe un argumento. Esto es equivalente a haber ejecutado `gato.__call__('pescado')`. \n",
    "\n",
    "`__call__` es otra función de Python que se llama bajo ciertas condiciones, de manera similar al método `__str__` que se llama cada vez que se solicita una conversión interna a *string*, como al ejecutar `print(perro)`."
   ]
  }
 ],
 "metadata": {
  "kernelspec": {
   "display_name": "Python 3",
   "language": "python",
   "name": "python3"
  },
  "language_info": {
   "codemirror_mode": {
    "name": "ipython",
    "version": 3
   },
   "file_extension": ".py",
   "mimetype": "text/x-python",
   "name": "python",
   "nbconvert_exporter": "python",
   "pygments_lexer": "ipython3",
   "version": "3.6.2"
  }
 },
 "nbformat": 4,
 "nbformat_minor": 2
}
